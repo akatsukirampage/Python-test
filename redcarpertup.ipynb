{
 "cells": [
  {
   "cell_type": "markdown",
   "metadata": {
    "colab_type": "text",
    "id": "CeO8zsYktdnT"
   },
   "source": [
    "# Part 1\n",
    "\n",
    "## Dependencies\n",
    "\n",
    "\n",
    "\n",
    "    nsepy: for dataset\n",
    "    pandas: for data manupulation and analysis \n",
    "    numpy : for linear algebera \n",
    "    bokeh : for visualization\n"
   ]
  },
  {
   "cell_type": "code",
   "execution_count": 1,
   "metadata": {
    "colab": {
     "base_uri": "https://localhost:8080/",
     "height": 364
    },
    "colab_type": "code",
    "executionInfo": {
     "elapsed": 11863,
     "status": "ok",
     "timestamp": 1554782793200,
     "user": {
      "displayName": "Ravi srivastava",
      "photoUrl": "https://lh5.googleusercontent.com/-01hkx1LDWuQ/AAAAAAAAAAI/AAAAAAAAGSo/acnodKsH7CI/s64/photo.jpg",
      "userId": "04044060414231630958"
     },
     "user_tz": -330
    },
    "id": "ZYQuJOahqRwY",
    "outputId": "2f37fb31-5414-4f48-8bab-47b01923f98a"
   },
   "outputs": [
    {
     "name": "stdout",
     "output_type": "stream",
     "text": [
      "Requirement already satisfied: nsepy in ./anaconda3/lib/python3.6/site-packages (0.7)\n",
      "Requirement already satisfied: click in ./anaconda3/lib/python3.6/site-packages (from nsepy) (6.7)\n",
      "Requirement already satisfied: numpy in ./.local/lib/python3.6/site-packages (from nsepy) (1.16.1)\n",
      "Requirement already satisfied: pandas in ./.local/lib/python3.6/site-packages (from nsepy) (0.24.0)\n",
      "Requirement already satisfied: requests in ./.local/lib/python3.6/site-packages (from nsepy) (2.21.0)\n",
      "Requirement already satisfied: six in ./.local/lib/python3.6/site-packages (from nsepy) (1.12.0)\n",
      "Requirement already satisfied: beautifulsoup4 in ./.local/lib/python3.6/site-packages (from nsepy) (4.7.1)\n",
      "Requirement already satisfied: pytz>=2011k in ./.local/lib/python3.6/site-packages (from pandas->nsepy) (2018.9)\n",
      "Requirement already satisfied: python-dateutil>=2.5.0 in ./.local/lib/python3.6/site-packages (from pandas->nsepy) (2.7.5)\n",
      "Requirement already satisfied: idna<2.9,>=2.5 in ./.local/lib/python3.6/site-packages (from requests->nsepy) (2.8)\n",
      "Requirement already satisfied: chardet<3.1.0,>=3.0.2 in ./.local/lib/python3.6/site-packages (from requests->nsepy) (3.0.4)\n",
      "Requirement already satisfied: urllib3<1.25,>=1.21.1 in ./.local/lib/python3.6/site-packages (from requests->nsepy) (1.24.1)\n",
      "Requirement already satisfied: certifi>=2017.4.17 in ./.local/lib/python3.6/site-packages (from requests->nsepy) (2018.11.29)\n",
      "Requirement already satisfied: soupsieve>=1.2 in ./.local/lib/python3.6/site-packages (from beautifulsoup4->nsepy) (1.6.2)\n",
      "\u001b[33mYou are using pip version 19.0.1, however version 19.0.3 is available.\n",
      "You should consider upgrading via the 'pip install --upgrade pip' command.\u001b[0m\n"
     ]
    }
   ],
   "source": [
    "!pip install nsepy\n",
    "from nsepy import get_history\n",
    "import pandas as pd\n",
    "from bokeh.io import output_notebook, show\n",
    "from bokeh.plotting import figure\n",
    "from bokeh.palettes import brewer\n",
    "from bokeh.palettes import Spectral11\n",
    "import bokeh \n",
    "import itertools\n",
    "from datetime import date\n",
    "import random\n",
    "from statsmodels.tsa.stattools import acf, pacf\n",
    "from bokeh.plotting import figure, output_file, save\n",
    "\n"
   ]
  },
  {
   "cell_type": "markdown",
   "metadata": {},
   "source": [
    "## getting the data set \n",
    "   **infy_data** contains the ohlv of infoysis stocks from 2015 to 2016\n",
    "      \n",
    "      \n",
    "   **tcs_data** contains the ohlv of infoysis stocks from 2015 to 2016"
   ]
  },
  {
   "cell_type": "code",
   "execution_count": 2,
   "metadata": {},
   "outputs": [],
   "source": [
    "infy_data=get_history('INFY', start=date(2015,1,1), end=date(2015,12,31))\n",
    "tcs_data=get_history('TCS', start=date(2015,1,1), end=date(2015,12,31))\n",
    "\n",
    "infy_data=infy_data[['Open', 'High', 'Low', 'Close','Volume']]\n",
    "tcs_data=tcs_data[['Open', 'High', 'Low', 'Close','Volume']]\n",
    "\n",
    "\n",
    "infy_data = infy_data.asfreq('D', method ='pad')        # pad-ffill : forward-fill\n",
    "tcs_data = tcs_data.asfreq('D', method ='pad')\n"
   ]
  },
  {
   "cell_type": "code",
   "execution_count": 3,
   "metadata": {
    "colab": {},
    "colab_type": "code",
    "id": "pohsQ3cuenqM"
   },
   "outputs": [],
   "source": [
    "tcs_data.insert(0, 'Date',  pd.to_datetime(tcs_data.index,format='%Y-%m-%d') )\n",
    "infy_data.insert(0, 'Date',  pd.to_datetime(infy_data.index,format='%Y-%m-%d') )"
   ]
  },
  {
   "cell_type": "markdown",
   "metadata": {},
   "source": [
    "## About the moving_av function \n",
    "\n",
    "    parameter\n",
    "    1.series\n",
    "    2.window (list of integers which we comprises the size of window)\n",
    "\n",
    "    return\n",
    "    1.dataframe with the column of average window size of each integer in the window list "
   ]
  },
  {
   "cell_type": "code",
   "execution_count": 4,
   "metadata": {
    "colab": {},
    "colab_type": "code",
    "id": "M4hcOZJpBM1O"
   },
   "outputs": [],
   "source": [
    "def moving_av(series, window):\n",
    "  MA_df=pd.DataFrame()\n",
    "  if len(window)==1:\n",
    "    MA_df['MA of {}'.format(window)]=series.resample('W').interpolate().rolling(window[0]).mean()\n",
    "    \n",
    "  else:\n",
    "    for i in window:\n",
    "       MA_df['MA of {} weeks'.format(i)]=series.resample('W').interpolate().rolling(i).mean()\n",
    "  \n",
    "  return MA_df\n",
    "      "
   ]
  },
  {
   "cell_type": "markdown",
   "metadata": {},
   "source": [
    "## variable information\n",
    "1. **tcs_moving_av** dataframe contains the column of moving average of the window size of [4,16,28,40,52]\n",
    "2. **infy_moving_av** dataframe contains the column of moving average of the window size of [4,16,28,40,52]"
   ]
  },
  {
   "cell_type": "code",
   "execution_count": 5,
   "metadata": {
    "colab": {},
    "colab_type": "code",
    "id": "Xb1F5w2ft7Kr"
   },
   "outputs": [],
   "source": [
    "tcs_moving_av=moving_av(tcs_data.Close, [4,16,28,40,52])\n",
    "infy_moving_av=moving_av(infy_data.Close, [4,16,28,40,52])"
   ]
  },
  {
   "cell_type": "markdown",
   "metadata": {},
   "source": [
    "## Function rolling_window\n",
    "   \n",
    "    parameters\n",
    "    1.series \n",
    "    2.window_range: list of integer or range of integers \n",
    "    \n",
    "    return\n",
    "    rolling_window returns the dataframe which contain column of rolling mean for the window size of each element of list. "
   ]
  },
  {
   "cell_type": "code",
   "execution_count": 6,
   "metadata": {
    "colab": {},
    "colab_type": "code",
    "id": "LryFh8sUu0ns"
   },
   "outputs": [],
   "source": [
    "def rolling_window(series, window_range):\n",
    "  rolling_df=pd.DataFrame()\n",
    "  for i in  window_range:\n",
    "    rolling_df['rolling window of size {}'.format(i)]=series.rolling(i).mean()\n",
    "    \n",
    "  return rolling_df"
   ]
  },
  {
   "cell_type": "markdown",
   "metadata": {},
   "source": [
    "#### tcs_rolling_df\n",
    "    dataframe which contains the column of rolling mean of the window size in range(10,75)\n",
    "\n",
    "#### infy_rolling_df\n",
    "    dataframe which contains the column of rolling mean of the window size in range(10,75)\n"
   ]
  },
  {
   "cell_type": "code",
   "execution_count": 7,
   "metadata": {
    "colab": {},
    "colab_type": "code",
    "id": "H9zfTI6jtNVI"
   },
   "outputs": [],
   "source": [
    "tcs_rolling_df=rolling_window(tcs_data.Close, range(10,75))\n",
    "infy_rolling_df=rolling_window(infy_data.Close, range(10,75))\n"
   ]
  },
  {
   "cell_type": "markdown",
   "metadata": {},
   "source": [
    "## function shocks_data\n",
    "    the function performs the all required operation which is given below \n",
    "\n",
    "     1 Volume shocks - If volume traded is 10% higher/lower than previous day - make a 0/1 boolean time series for shock.\n",
    "     2 Price shocks - If closing price at T vs T+1 has a difference > 2%, then 0/1 boolean time series for shock.\n",
    "     3 Pricing black swan - If closing price at T vs T+1 has a difference > 2%, then 0/1 boolean time series for shock.\n",
    "     4 Pricing shock without volume shock - based on points a & b - Make a 0/1 dummy time series.\n",
    "     \n",
    "     \n",
    "    Parameter\n",
    "    1.stocks_dataframe\n",
    "    \n",
    "    returns\n",
    "    dataframe with columns names Volume shocks, Price shocks, Pricing black swan, Pricing shock without volume shock"
   ]
  },
  {
   "cell_type": "code",
   "execution_count": 8,
   "metadata": {
    "colab": {},
    "colab_type": "code",
    "id": "WzI0b7uAwB_R"
   },
   "outputs": [],
   "source": [
    "def shocks_data(stock_dataframe):\n",
    "\n",
    "  shocks_df=pd.DataFrame(index=stock_dataframe.index)\n",
    "  shocks_df['Volume shocks']=[1 if abs(change) > 0.100 else 0 for change in stock_dataframe.Volume.pct_change()]\n",
    "  shocks_df['Price shocks']=[1 if abs(change) > 0.020 else 0 for change in stock_dataframe.Close.pct_change()]\n",
    "  shocks_df['Pricing black swan']=[1 if abs(change) > 0.1000 else 0 for change in stock_dataframe.Close.pct_change()]\n",
    "\n",
    "  shocks_df['Price shocks without volume shocks']=0\n",
    "  priceshocks_df=shocks_df[shocks_df['Price shocks']==1]\n",
    "  ind=priceshocks_df[priceshocks_df['Volume shocks']==0].index\n",
    "  shocks_df.at[ind, 'Pricing shock without volume shock']=1\n",
    "  shocks_df['Pricing shock without volume shock'].fillna(0,inplace=True)\n",
    "  \n",
    "  return shocks_df\n",
    "  \n",
    "  \n",
    "\n"
   ]
  },
  {
   "cell_type": "markdown",
   "metadata": {},
   "source": [
    "### tcs_shocks_df\n",
    "    data frame with the columns Volume shocks, Price shocks, Pricing black swan, Pricing shock without volume shock for tcs stock data \n",
    "    \n",
    "### infy_shocks_df\n",
    "    data frame with the columns Volume shocks, Price shocks, Pricing black swan, Pricing shock without volume shock for infosys stock data "
   ]
  },
  {
   "cell_type": "code",
   "execution_count": 9,
   "metadata": {
    "colab": {},
    "colab_type": "code",
    "id": "at8o1oydwzsx"
   },
   "outputs": [],
   "source": [
    "tcs_shocks_df=shocks_data(tcs_data)\n",
    "infy_shocks_df=shocks_data(infy_data)"
   ]
  },
  {
   "cell_type": "markdown",
   "metadata": {},
   "source": [
    "# Part 2 visualization using bokeh"
   ]
  },
  {
   "cell_type": "code",
   "execution_count": 10,
   "metadata": {
    "colab": {
     "base_uri": "https://localhost:8080/",
     "height": 447
    },
    "colab_type": "code",
    "executionInfo": {
     "elapsed": 2193,
     "status": "ok",
     "timestamp": 1554782845130,
     "user": {
      "displayName": "Ravi srivastava",
      "photoUrl": "https://lh5.googleusercontent.com/-01hkx1LDWuQ/AAAAAAAAAAI/AAAAAAAAGSo/acnodKsH7CI/s64/photo.jpg",
      "userId": "04044060414231630958"
     },
     "user_tz": -330
    },
    "id": "wjrNRHmf87Pw",
    "outputId": "0db6ec09-bbb6-4afd-8aeb-5d38c320980b"
   },
   "outputs": [
    {
     "data": {
      "text/plain": [
       "'/home/ravi/plot1.html'"
      ]
     },
     "execution_count": 10,
     "metadata": {},
     "output_type": "execute_result"
    }
   ],
   "source": [
    "\n",
    "output_file('plot1.html', mode='inline')\n",
    "\n",
    "\n",
    "p = figure( x_axis_type='datetime',plot_width=900,plot_height=400, title='close price tcs vs infy')\n",
    "\n",
    "\n",
    "p.line(tcs_data.index,tcs_data.Close,line_width=2, name='tcs close price', color= 'blue',legend='tcs')\n",
    "p.line(infy_data.index,infy_data.Close,line_width=2, name='infy close price', color='red', legend='infy')\n",
    "\n",
    "\n",
    "p.xaxis.formatter = bokeh.models.formatters.DatetimeTickFormatter(\n",
    "    months=[\"%Y-%m-%d\"])\n",
    "\n",
    "p.legend.location = \"top_right\"\n",
    "p.legend.click_policy=\"hide\"\n",
    "\n",
    "save(p)"
   ]
  },
  {
   "cell_type": "code",
   "execution_count": 11,
   "metadata": {
    "colab": {
     "base_uri": "https://localhost:8080/",
     "height": 447
    },
    "colab_type": "code",
    "executionInfo": {
     "elapsed": 2001,
     "status": "ok",
     "timestamp": 1554782851510,
     "user": {
      "displayName": "Ravi srivastava",
      "photoUrl": "https://lh5.googleusercontent.com/-01hkx1LDWuQ/AAAAAAAAAAI/AAAAAAAAGSo/acnodKsH7CI/s64/photo.jpg",
      "userId": "04044060414231630958"
     },
     "user_tz": -330
    },
    "id": "SwL4dCm9-J1N",
    "outputId": "481f7cee-c052-4747-8d2c-b59e7da4eece"
   },
   "outputs": [
    {
     "data": {
      "text/plain": [
       "'/home/ravi/plot2.html'"
      ]
     },
     "execution_count": 11,
     "metadata": {},
     "output_type": "execute_result"
    }
   ],
   "source": [
    "output_file('plot2.html', mode='inline')\n",
    "p = figure( x_axis_type='datetime',plot_width=900,plot_height=400, title='volume shocks tcs vs infy')\n",
    "\n",
    "\n",
    "p.line(tcs_shocks_df.index,tcs_shocks_df['Volume shocks'],line_width=2, name='tcs volume shocks', color= 'blue',legend='tcs')\n",
    "p.line(infy_shocks_df.index,infy_shocks_df['Volume shocks'],line_width=2, name='infy close shocks', color='red', legend='infy')\n",
    "\n",
    "\n",
    "p.xaxis.formatter = bokeh.models.formatters.DatetimeTickFormatter(\n",
    "    months=[\"%Y-%m-%d\"])\n",
    "\n",
    "p.legend.location = \"top_right\"\n",
    "p.legend.click_policy=\"hide\"\n",
    "\n",
    "save(p)"
   ]
  },
  {
   "cell_type": "code",
   "execution_count": 12,
   "metadata": {
    "colab": {
     "base_uri": "https://localhost:8080/",
     "height": 447
    },
    "colab_type": "code",
    "executionInfo": {
     "elapsed": 2666,
     "status": "ok",
     "timestamp": 1554782859024,
     "user": {
      "displayName": "Ravi srivastava",
      "photoUrl": "https://lh5.googleusercontent.com/-01hkx1LDWuQ/AAAAAAAAAAI/AAAAAAAAGSo/acnodKsH7CI/s64/photo.jpg",
      "userId": "04044060414231630958"
     },
     "user_tz": -330
    },
    "id": "CcjkXLre_xss",
    "outputId": "0006961c-1eff-4944-ce8b-5df1988d5da8"
   },
   "outputs": [
    {
     "data": {
      "text/plain": [
       "'/home/ravi/plot3.html'"
      ]
     },
     "execution_count": 12,
     "metadata": {},
     "output_type": "execute_result"
    }
   ],
   "source": [
    "output_file('plot3.html', mode='inline')\n",
    "p = figure( x_axis_type='datetime',plot_width=900,plot_height=400, title='52 weeks moving average tcs vs infy')\n",
    "\n",
    "\n",
    "p.line(tcs_moving_av.index,tcs_moving_av['MA of 52 weeks'],line_width=2, name='tcs volume shocks', color= 'blue',legend='tcs')\n",
    "p.line(infy_moving_av.index,infy_moving_av['MA of 52 weeks'],line_width=2, name='infy close shocks', color='red', legend='infy')\n",
    "\n",
    "\n",
    "p.xaxis.formatter = bokeh.models.formatters.DatetimeTickFormatter(\n",
    "    months=[\"%Y-%m-%d\"])\n",
    "\n",
    "p.legend.location = \"top_right\"\n",
    "p.legend.click_policy=\"hide\"\n",
    "\n",
    "save(p)"
   ]
  },
  {
   "cell_type": "code",
   "execution_count": 13,
   "metadata": {
    "colab": {
     "base_uri": "https://localhost:8080/",
     "height": 447
    },
    "colab_type": "code",
    "executionInfo": {
     "elapsed": 2562,
     "status": "ok",
     "timestamp": 1554787711627,
     "user": {
      "displayName": "Ravi srivastava",
      "photoUrl": "https://lh5.googleusercontent.com/-01hkx1LDWuQ/AAAAAAAAAAI/AAAAAAAAGSo/acnodKsH7CI/s64/photo.jpg",
      "userId": "04044060414231630958"
     },
     "user_tz": -330
    },
    "id": "iICCjSGl4Wnd",
    "outputId": "6f9c4bf7-08b3-42ac-c1c8-33cc0ae56438"
   },
   "outputs": [
    {
     "data": {
      "text/plain": [
       "'/home/ravi/plot4.html'"
      ]
     },
     "execution_count": 13,
     "metadata": {},
     "output_type": "execute_result"
    }
   ],
   "source": [
    "output_file('plot4.html', mode='inline')\n",
    "p = figure( x_axis_type='datetime',plot_width=900,plot_height=400, title='volumeless price movement tcs vs infy')\n",
    "\n",
    "\n",
    "p.line(tcs_data.index,tcs_data.Close,line_width=2, name='tcs close price', color= 'blue',legend='tcs')\n",
    "p.circle(tcs_shocks_df[tcs_shocks_df['Pricing shock without volume shock']==1].index,tcs_data.Close.loc[tcs_shocks_df[tcs_shocks_df['Pricing shock without volume shock']==1].index],size=15, color= 'blue',legend='tcs')\n",
    "\n",
    "\n",
    "p.line(infy_data.index,infy_data.Close,line_width=2, name='infy close price', color='red', legend='infy')\n",
    "p.circle(infy_shocks_df[infy_shocks_df['Pricing shock without volume shock']==1].index,infy_data.Close.loc[infy_shocks_df[infy_shocks_df['Pricing shock without volume shock']==1].index],size=15, color='red', legend='infy')\n",
    "\n",
    "\n",
    "p.xaxis.formatter = bokeh.models.formatters.DatetimeTickFormatter(\n",
    "    months=[\"%Y-%m-%d\"])\n",
    "\n",
    "p.legend.location = \"top_right\"\n",
    "p.legend.click_policy=\"hide\"\n",
    "\n",
    "save(p)\n",
    "\n",
    "\n"
   ]
  },
  {
   "cell_type": "code",
   "execution_count": 14,
   "metadata": {
    "colab": {
     "base_uri": "https://localhost:8080/",
     "height": 547
    },
    "colab_type": "code",
    "executionInfo": {
     "elapsed": 2222,
     "status": "ok",
     "timestamp": 1554787749221,
     "user": {
      "displayName": "Ravi srivastava",
      "photoUrl": "https://lh5.googleusercontent.com/-01hkx1LDWuQ/AAAAAAAAAAI/AAAAAAAAGSo/acnodKsH7CI/s64/photo.jpg",
      "userId": "04044060414231630958"
     },
     "user_tz": -330
    },
    "id": "beKhjzc45JUC",
    "outputId": "9948ab80-b6f2-4d8d-f6c4-9ceb92bb7b74"
   },
   "outputs": [
    {
     "data": {
      "text/plain": [
       "'/home/ravi/plot5.html'"
      ]
     },
     "execution_count": 14,
     "metadata": {},
     "output_type": "execute_result"
    }
   ],
   "source": [
    "output_file('plot5.html', mode='inline')\n",
    "\n",
    "numlines=len(infy_moving_av.columns)\n",
    "mypalette=Spectral11[0:numlines]\n",
    "color=itertools.cycle(mypalette)\n",
    "\n",
    "p = figure(width=900, height=500, x_axis_type=\"datetime\", title='Moving average of tcs') \n",
    "for c,col in zip(color,tcs_moving_av.columns):\n",
    "    p.line(tcs_moving_av.index, tcs_moving_av[col], line_width=5, color=c,legend='{}'.format(col))\n",
    "\n",
    "p.legend.location = \"top_right\"\n",
    "p.legend.click_policy=\"hide\"\n",
    "\n",
    "save(p)"
   ]
  },
  {
   "cell_type": "code",
   "execution_count": 15,
   "metadata": {
    "colab": {
     "base_uri": "https://localhost:8080/",
     "height": 547
    },
    "colab_type": "code",
    "executionInfo": {
     "elapsed": 1954,
     "status": "ok",
     "timestamp": 1554787758991,
     "user": {
      "displayName": "Ravi srivastava",
      "photoUrl": "https://lh5.googleusercontent.com/-01hkx1LDWuQ/AAAAAAAAAAI/AAAAAAAAGSo/acnodKsH7CI/s64/photo.jpg",
      "userId": "04044060414231630958"
     },
     "user_tz": -330
    },
    "id": "7XX9GPoxI_mh",
    "outputId": "e1f4ce19-f93c-44b6-f42b-3b91760ee04f"
   },
   "outputs": [
    {
     "data": {
      "text/plain": [
       "'/home/ravi/plot6.html'"
      ]
     },
     "execution_count": 15,
     "metadata": {},
     "output_type": "execute_result"
    }
   ],
   "source": [
    "\n",
    "output_file('plot6.html', mode='inline')\n",
    "\n",
    "numlines=len(infy_moving_av.columns)\n",
    "mypalette=Spectral11[0:numlines]\n",
    "color=itertools.cycle(mypalette)\n",
    "\n",
    "p = figure(width=900, height=500, x_axis_type=\"datetime\", title='Moving average of tcs') \n",
    "for c,col in zip(color,infy_moving_av.columns):\n",
    "    p.line(infy_moving_av.index, infy_moving_av[col], line_width=5, color=c,legend='{}'.format(col))\n",
    "\n",
    "p.legend.location = \"top_right\"\n",
    "p.legend.click_policy=\"hide\"\n",
    "\n",
    "save(p)\n"
   ]
  },
  {
   "cell_type": "code",
   "execution_count": 16,
   "metadata": {
    "colab": {
     "base_uri": "https://localhost:8080/",
     "height": 547
    },
    "colab_type": "code",
    "executionInfo": {
     "elapsed": 59478,
     "status": "ok",
     "timestamp": 1554788767631,
     "user": {
      "displayName": "Ravi srivastava",
      "photoUrl": "https://lh5.googleusercontent.com/-01hkx1LDWuQ/AAAAAAAAAAI/AAAAAAAAGSo/acnodKsH7CI/s64/photo.jpg",
      "userId": "04044060414231630958"
     },
     "user_tz": -330
    },
    "id": "rvm92eQgJSXC",
    "outputId": "a13ea52a-8fd7-497f-f7c1-8a5ba57df5b5"
   },
   "outputs": [
    {
     "data": {
      "text/plain": [
       "'/home/ravi/plot7.html'"
      ]
     },
     "execution_count": 16,
     "metadata": {},
     "output_type": "execute_result"
    }
   ],
   "source": [
    "output_file('plot7.html', mode='inline')\n",
    "numlines=len(tcs_rolling_df.columns)\n",
    "\n",
    "p = figure(width=900, height=500, x_axis_type=\"datetime\", title='rolling window up to 75 of tcs') \n",
    "\n",
    "\n",
    "\n",
    "\n",
    "number_of_colors = 65\n",
    "\n",
    "color = [\"#\"+''.join([random.choice('0123456789ABCDEF') for j in range(6)])\n",
    "             for i in range(number_of_colors)]\n",
    "\n",
    "for c,col in zip(color,tcs_rolling_df.columns):\n",
    "    p.line(tcs_rolling_df.index, tcs_rolling_df[col], line_width=3, color=c)\n",
    "\n",
    "\n",
    "save(p)\n"
   ]
  },
  {
   "cell_type": "code",
   "execution_count": 17,
   "metadata": {
    "colab": {
     "base_uri": "https://localhost:8080/",
     "height": 547
    },
    "colab_type": "code",
    "executionInfo": {
     "elapsed": 61159,
     "status": "ok",
     "timestamp": 1554788974218,
     "user": {
      "displayName": "Ravi srivastava",
      "photoUrl": "https://lh5.googleusercontent.com/-01hkx1LDWuQ/AAAAAAAAAAI/AAAAAAAAGSo/acnodKsH7CI/s64/photo.jpg",
      "userId": "04044060414231630958"
     },
     "user_tz": -330
    },
    "id": "xM9BH-5Zndjr",
    "outputId": "83e4d54d-19d0-4768-83a1-87efb92bfdb3"
   },
   "outputs": [
    {
     "data": {
      "text/plain": [
       "'/home/ravi/plot8.html'"
      ]
     },
     "execution_count": 17,
     "metadata": {},
     "output_type": "execute_result"
    }
   ],
   "source": [
    "output_file('plot8.html', mode='inline')\n",
    "\n",
    "\n",
    "p = figure(width=900, height=500, x_axis_type=\"datetime\", title='rolling window up to 75 of tcs') \n",
    "\n",
    "\n",
    "\n",
    "\n",
    "number_of_colors = 65\n",
    "\n",
    "color = [\"#\"+''.join([random.choice('0123456789ABCDEF') for j in range(6)])\n",
    "             for i in range(number_of_colors)]\n",
    "\n",
    "for c,col in zip(color,infy_rolling_df.columns):\n",
    "    p.line(infy_rolling_df.index, infy_rolling_df[col], line_width=3, color=c)\n",
    "\n",
    "\n",
    "save(p)\n"
   ]
  },
  {
   "cell_type": "code",
   "execution_count": 18,
   "metadata": {
    "colab": {},
    "colab_type": "code",
    "id": "nF_7YFaCOujy"
   },
   "outputs": [],
   "source": [
    "def plot_pacf(stock_dataframe,title_name ,color,save_name):\n",
    "    \n",
    "    output_file(save_name, mode='inline')\n",
    "    \n",
    "    lags=40\n",
    "    \n",
    "    x=range(lags)\n",
    "\n",
    "    p = figure(width= 400,height=500, title=\"Partial Autocorrelation PLot {}\" .format(title_name))\n",
    "\n",
    "    partial_autocorr = pacf(stock_dataframe[\"Close\"], nlags=lags)\n",
    "    p.vbar(x=range(len(partial_autocorr)), top=partial_autocorr, width=0.9,color=color)\n",
    "    save(p)\n"
   ]
  },
  {
   "cell_type": "code",
   "execution_count": 19,
   "metadata": {
    "colab": {
     "base_uri": "https://localhost:8080/",
     "height": 564
    },
    "colab_type": "code",
    "executionInfo": {
     "elapsed": 1884,
     "status": "ok",
     "timestamp": 1554788099492,
     "user": {
      "displayName": "Ravi srivastava",
      "photoUrl": "https://lh5.googleusercontent.com/-01hkx1LDWuQ/AAAAAAAAAAI/AAAAAAAAGSo/acnodKsH7CI/s64/photo.jpg",
      "userId": "04044060414231630958"
     },
     "user_tz": -330
    },
    "id": "bCBh999uSsSx",
    "outputId": "2097e2a8-8102-4eb9-9e17-f3115cc40ac6"
   },
   "outputs": [],
   "source": [
    "plot_pacf(tcs_data, 'TCS', 'blue','plot9.html')"
   ]
  },
  {
   "cell_type": "code",
   "execution_count": 20,
   "metadata": {
    "colab": {
     "base_uri": "https://localhost:8080/",
     "height": 564
    },
    "colab_type": "code",
    "executionInfo": {
     "elapsed": 2041,
     "status": "ok",
     "timestamp": 1554788129882,
     "user": {
      "displayName": "Ravi srivastava",
      "photoUrl": "https://lh5.googleusercontent.com/-01hkx1LDWuQ/AAAAAAAAAAI/AAAAAAAAGSo/acnodKsH7CI/s64/photo.jpg",
      "userId": "04044060414231630958"
     },
     "user_tz": -330
    },
    "id": "eNb9fzvfTUoG",
    "outputId": "6e874852-0ae0-401a-b29b-8ef989a8742e"
   },
   "outputs": [],
   "source": [
    "plot_pacf(infy_data, 'INFY','red','plot10.html')"
   ]
  }
 ],
 "metadata": {
  "accelerator": "GPU",
  "colab": {
   "collapsed_sections": [],
   "name": "Untitled1.ipynb",
   "provenance": [],
   "version": "0.3.2"
  },
  "kernelspec": {
   "display_name": "Python 3",
   "language": "python",
   "name": "python3"
  },
  "language_info": {
   "codemirror_mode": {
    "name": "ipython",
    "version": 3
   },
   "file_extension": ".py",
   "mimetype": "text/x-python",
   "name": "python",
   "nbconvert_exporter": "python",
   "pygments_lexer": "ipython3",
   "version": "3.6.7"
  }
 },
 "nbformat": 4,
 "nbformat_minor": 1
}
